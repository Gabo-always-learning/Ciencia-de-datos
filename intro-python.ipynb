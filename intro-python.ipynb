{
  "cells": [
    {
      "cell_type": "markdown",
      "metadata": {
        "id": "view-in-github",
        "colab_type": "text"
      },
      "source": [
        "<a href=\"https://colab.research.google.com/github/Gabo-always-learning/Ciencia-de-datos/blob/main/intro-python.ipynb\" target=\"_parent\"><img src=\"https://colab.research.google.com/assets/colab-badge.svg\" alt=\"Open In Colab\"/></a>"
      ]
    },
    {
      "cell_type": "markdown",
      "metadata": {
        "id": "dKq_z39VdIsW"
      },
      "source": [
        "<a href=\"https://colab.research.google.com/github/mcd-unison/material-programacion/blob/main/intro-python.ipynb\" target=\"_parent\"><img src=\"https://colab.research.google.com/assets/colab-badge.svg\" alt=\"Open In Colab\"/></a>"
      ]
    },
    {
      "cell_type": "markdown",
      "metadata": {
        "id": "2XR8LIBidIsZ"
      },
      "source": [
        "<center>\n",
        "<p><img src=\"https://mcd.unison.mx/wp-content/themes/awaken/img/logo_mcd.png\" width=\"100\">\n",
        "</p>\n",
        "\n",
        "\n",
        "\n",
        "# Curso Propedéutico en *Programación*\n",
        "\n",
        "## Introducción a `python` resolviendo preguntas\n",
        "\n",
        "\n",
        "**Julio Waissman Vilanova**\n",
        "\n"
      ]
    },
    {
      "cell_type": "markdown",
      "metadata": {
        "id": "0lCyF0W_dIsa"
      },
      "source": [
        "### Tipos\n",
        "\n",
        "¿Cuales son los tipos de datos básicos? Revisa los tipos siguientes:\n",
        "\n",
        "1. Tipos numéricos `int`, `float`, `complex`\n",
        "2. Cadenas de caracteres\n",
        "3. Tuplas\n",
        "4. Listas\n",
        "5. Diccionarios\n",
        "6. Conjuntos\n",
        "\n",
        "Da ejemplo de sobrecarga de operadores (en particular `+` y `*`)\n",
        "\n"
      ]
    },
    {
      "cell_type": "code",
      "execution_count": 1,
      "metadata": {
        "colab": {
          "base_uri": "https://localhost:8080/",
          "height": 36
        },
        "id": "619-IFVidIsb",
        "outputId": "996d7719-1ee2-4e15-9a4e-d82315c063b6"
      },
      "outputs": [
        {
          "output_type": "execute_result",
          "data": {
            "text/plain": [
              "'Yo-Ho-Ho-Ho'"
            ],
            "application/vnd.google.colaboratory.intrinsic+json": {
              "type": "string"
            }
          },
          "metadata": {},
          "execution_count": 1
        }
      ],
      "source": [
        "\n",
        "a = 'Yo'\n",
        "b = '-Ho'\n",
        "\n",
        "a+b*3"
      ]
    },
    {
      "cell_type": "markdown",
      "metadata": {
        "id": "IuZdz2HXdIsc"
      },
      "source": [
        "¿Que significa que unos tipos sean *mutables* y otros *inmutables*?\n",
        "\n",
        "Realiza un pequeño programa donde quede claro lo que significa que un tipo de datos sea mutable, e ilustra el uso del método `copy.deepcopy()`."
      ]
    },
    {
      "cell_type": "code",
      "execution_count": 2,
      "metadata": {
        "colab": {
          "base_uri": "https://localhost:8080/"
        },
        "id": "LxjK37lFdIsc",
        "outputId": "b30763d0-445f-4d99-a208-28405b5d7cd8"
      },
      "outputs": [
        {
          "output_type": "stream",
          "name": "stdout",
          "text": [
            "[24, 3.1416, 'Yo', 'Hola mundo']\n",
            "[24, 3.1416, 'Yo', 'Hola mundo']\n",
            "[24, 3.1416, 'Yo', 'Hola mundo', True]\n"
          ]
        }
      ],
      "source": [
        "import copy\n",
        "\n",
        "l_1 = [24, 3.1416, a, 'Hola mundo', True]\n",
        "\n",
        "l_2 = l_1\n",
        "\n",
        "l_3 = copy.deepcopy(l_1)\n",
        "\n",
        "l_2.pop(-1)\n",
        "\n",
        "print(l_1)\n",
        "print(l_2)\n",
        "print(l_3)\n",
        "\n"
      ]
    },
    {
      "cell_type": "markdown",
      "metadata": {
        "id": "lIcs4QdjdIsc"
      },
      "source": [
        "### *Comprehension* de listas, conjuntos y diccionarios\n",
        "\n",
        "Escribe, en una sola linea, una expresión que genere una lista con todos los números enteros que se encuentran entre $1$ y $n$\n",
        "que sean divisibles por $3$ y $7$ y que el dígito menos significativo del número sea $6$."
      ]
    },
    {
      "cell_type": "code",
      "execution_count": 3,
      "metadata": {
        "colab": {
          "base_uri": "https://localhost:8080/"
        },
        "id": "XDeAeG4CdIse",
        "outputId": "1584a131-8d1c-40b6-e27e-61b3fc80a9a9"
      },
      "outputs": [
        {
          "output_type": "execute_result",
          "data": {
            "text/plain": [
              "[126,\n",
              " 336,\n",
              " 546,\n",
              " 756,\n",
              " 966,\n",
              " 1176,\n",
              " 1386,\n",
              " 1596,\n",
              " 1806,\n",
              " 2016,\n",
              " 2226,\n",
              " 2436,\n",
              " 2646,\n",
              " 2856,\n",
              " 3066,\n",
              " 3276,\n",
              " 3486,\n",
              " 3696,\n",
              " 3906,\n",
              " 4116,\n",
              " 4326,\n",
              " 4536,\n",
              " 4746,\n",
              " 4956,\n",
              " 5166,\n",
              " 5376,\n",
              " 5586,\n",
              " 5796,\n",
              " 6006,\n",
              " 6216,\n",
              " 6426,\n",
              " 6636,\n",
              " 6846,\n",
              " 7056,\n",
              " 7266,\n",
              " 7476,\n",
              " 7686,\n",
              " 7896,\n",
              " 8106,\n",
              " 8316,\n",
              " 8526,\n",
              " 8736,\n",
              " 8946,\n",
              " 9156,\n",
              " 9366,\n",
              " 9576,\n",
              " 9786,\n",
              " 9996]"
            ]
          },
          "metadata": {},
          "execution_count": 3
        }
      ],
      "source": [
        "n = 10_000\n",
        "\n",
        "lista = [x for x in range(1,n) if x%3 == 0 and x%7 == 0 and x%10 == 6]\n",
        "\n",
        "lista"
      ]
    },
    {
      "cell_type": "markdown",
      "metadata": {
        "id": "vPLl_nDKdIse"
      },
      "source": [
        "### Funciones\n",
        "\n",
        "Escribe una función que:\n",
        "\n",
        "1. reciba una lista de elementos (letras, números, lo que sea),\n",
        "2. cuente la ocurrencia de cada elemento en la lista,\n",
        "3. devuelva las ocurrencias en forma de diccionario,\n",
        "4. si imprime es True, imprima un histograma de ocurrencias, por ejemplo:\n",
        "\n",
        "```python\n",
        "\n",
        "lista = [1,'a',1, 13, 'hola', 'a', 1, 1, 'a', 1]\n",
        "\n",
        "d = funcion_ejemplo(lista, imprime = True)\n",
        "\n",
        "1    \t\t***** \t(5 -> 50%)\n",
        "'a'  \t\t***   \t(3 -> 30%)\n",
        "13\t\t*\t(1 -> 10%)\n",
        "'hola'\t\t*\t(1 -> 10%)\n",
        "\n",
        "```"
      ]
    },
    {
      "cell_type": "code",
      "execution_count": 4,
      "metadata": {
        "id": "WuzmMbHwdIsg"
      },
      "outputs": [],
      "source": [
        "# Escribe la función aquí\n",
        "\n",
        "def funcion_ejemplo(lista,imprime = False):\n",
        "  dic = {x: lista.count(x) for x in set(lista) }\n",
        "  if imprime == True:\n",
        "    for (key, valor) in dic.items():\n",
        "      print(f\"{key}\\t\\t{valor*'*'} \\t \\t ({valor}-->{valor / len(lista):.0%})\")\n",
        "  return dic\n",
        "\n",
        "\n"
      ]
    },
    {
      "cell_type": "code",
      "execution_count": 5,
      "metadata": {
        "colab": {
          "base_uri": "https://localhost:8080/"
        },
        "id": "_tntV66KdIsh",
        "outputId": "ad878e42-9291-4e1e-9aec-03602e34e4bf"
      },
      "outputs": [
        {
          "output_type": "stream",
          "name": "stdout",
          "text": [
            "hola\t\t* \t \t (1-->10%)\n",
            "1\t\t***** \t \t (5-->50%)\n",
            "13\t\t* \t \t (1-->10%)\n",
            "a\t\t*** \t \t (3-->30%)\n",
            "{'hola': 1, 1: 5, 13: 1, 'a': 3}\n"
          ]
        }
      ],
      "source": [
        "# Realiza pruebas aquí\n",
        "lista = [1,'a',1, 13, 'hola', 'a', 1, 1, 'a', 1]\n",
        "d = funcion_ejemplo(lista, imprime = True)\n",
        "print(d)"
      ]
    },
    {
      "cell_type": "markdown",
      "metadata": {
        "id": "cQIIjH_GdIsi"
      },
      "source": [
        "Escribe una función que modifique un diccionario y regrese el diccionario modificado y una copia del original, donde cada entrada\n",
        "del diccionario sea una lista de valores. Ten en cuenta que si una entrada del diccionario es de tipo mutable, al modificarlo en la\n",
        "copia se modifica el original. Utiliza el modulo `copy` para evitar este problema. Ejemplo de la función:\n",
        "\n",
        "```python\n",
        "dic1 = {'Pepe':[12, 'enero', 1980], 'Carolina':[15,'mayo',1975],'Paco':[10,'nov',1970]}\n",
        "dic2 = fundicos(dic1, 'Pepe', 1, 'febrero')\n",
        "\n",
        "print(dic1)\n",
        "{'Pepe':[12, 'enero', 1980], 'Carolina':[15,'mayo',1975],'Paco':[10,'nov',1970]}\n",
        "\n",
        "print(dic2)\n",
        "{'Pepe':[12, 'febrero', 1980], 'Carolina':[15,'mayo',1975],'Paco':[10,'nov',1970]}\n",
        "```"
      ]
    },
    {
      "cell_type": "code",
      "execution_count": 17,
      "metadata": {
        "id": "hSLptnmTdIsk"
      },
      "outputs": [],
      "source": [
        "def fundicos(dic,nombre, indice, cambio):\n",
        "  dic_copy = copy.deepcopy(dic)\n",
        "  dic_copy[nombre][indice] = cambio\n",
        "  return dic_copy"
      ]
    },
    {
      "cell_type": "code",
      "execution_count": 18,
      "metadata": {
        "colab": {
          "base_uri": "https://localhost:8080/"
        },
        "id": "7-TX-z2ddIsk",
        "outputId": "a2408b9f-4ed4-4071-e8d4-187b6c05a023"
      },
      "outputs": [
        {
          "output_type": "stream",
          "name": "stdout",
          "text": [
            "{'Pepe': [12, 'enero', 1980], 'Carolina': [15, 'mayo', 1975], 'Paco': [10, 'nov', 1970]}\n",
            "{'Pepe': [12, 'febrero', 1980], 'Carolina': [15, 'mayo', 1975], 'Paco': [10, 'nov', 1970]}\n"
          ]
        }
      ],
      "source": [
        "# Realiza pruebas de fundicos aquí\n",
        "dic1 = {'Pepe':[12, 'enero', 1980], 'Carolina':[15,'mayo',1975],'Paco':[10,'nov',1970]}\n",
        "dic2 = fundicos(dic1, 'Pepe', 1, 'febrero')\n",
        "\n",
        "print(dic1)\n",
        "print(dic2)"
      ]
    },
    {
      "cell_type": "markdown",
      "metadata": {
        "id": "BB14RIgJdIsk"
      },
      "source": [
        "### Generadores\n",
        "\n",
        "Escribe un generador que reciba una lista y genere todas las permutaciones que se puedan hacer con los elementos de la lista"
      ]
    },
    {
      "cell_type": "code",
      "execution_count": 6,
      "metadata": {
        "id": "IhM03p8BdIsl"
      },
      "outputs": [],
      "source": [
        "# Escribe aqui fun1\n",
        "\n",
        "def permutaciones(lista):\n",
        "    \"\"\"\n",
        "    Permutaciones de los elementos de una lista.\n",
        "\n",
        "    Devuelve un generador con todas las permutaciones posibles de los elementos de la lista de entrada\n",
        "    \"\"\"\n",
        "    if len(lista)==0:\n",
        "      yield lista\n",
        "    else:\n",
        "      for (i,elemento) in enumerate(lista):\n",
        "        lista_menos_elem = lista[:i]+lista[i+1:]\n",
        "        for perm in permutaciones(lista_menos_elem):\n",
        "          yield [elemento]+perm\n",
        "\n",
        "\n",
        "    #TODO: Implementar la función"
      ]
    },
    {
      "cell_type": "code",
      "execution_count": 7,
      "metadata": {
        "colab": {
          "base_uri": "https://localhost:8080/"
        },
        "id": "d8HgiZqKdIsm",
        "outputId": "b1095dd3-e115-4eef-e37a-c81e4599781c"
      },
      "outputs": [
        {
          "output_type": "stream",
          "name": "stdout",
          "text": [
            "['a', 'b', 'c', 'd']\n",
            "['a', 'b', 'd', 'c']\n",
            "['a', 'c', 'b', 'd']\n",
            "['a', 'c', 'd', 'b']\n",
            "['a', 'd', 'b', 'c']\n",
            "['a', 'd', 'c', 'b']\n",
            "['b', 'a', 'c', 'd']\n",
            "['b', 'a', 'd', 'c']\n",
            "['b', 'c', 'a', 'd']\n",
            "['b', 'c', 'd', 'a']\n",
            "['b', 'd', 'a', 'c']\n",
            "['b', 'd', 'c', 'a']\n",
            "['c', 'a', 'b', 'd']\n",
            "['c', 'a', 'd', 'b']\n",
            "['c', 'b', 'a', 'd']\n",
            "['c', 'b', 'd', 'a']\n",
            "['c', 'd', 'a', 'b']\n",
            "['c', 'd', 'b', 'a']\n",
            "['d', 'a', 'b', 'c']\n",
            "['d', 'a', 'c', 'b']\n",
            "['d', 'b', 'a', 'c']\n",
            "['d', 'b', 'c', 'a']\n",
            "['d', 'c', 'a', 'b']\n",
            "['d', 'c', 'b', 'a']\n"
          ]
        }
      ],
      "source": [
        "# Realiza pruebas de fun2 aquí\n",
        "for p in permutaciones(['a', 'b', 'c', 'd']):\n",
        "    print(p)"
      ]
    },
    {
      "cell_type": "markdown",
      "metadata": {
        "id": "eRgrnCuJdIsm"
      },
      "source": [
        "Ahora escribe una funcipn que reciba 4 digitos del 0 al 9, y devuelva una lista con todas las horas váidas que se puedan hacer con estos dígitos en forma de lista de strings con la forma `\"HH:MM\"`."
      ]
    },
    {
      "cell_type": "code",
      "execution_count": 8,
      "metadata": {
        "id": "O1rhCJwydIsm"
      },
      "outputs": [],
      "source": [
        "def horas_validas(lista):\n",
        "    \"\"\"\n",
        "    Docstring a comentar correctamente\n",
        "    \"\"\"\n",
        "    lista_de_horas = []\n",
        "    for p in permutaciones(lista):\n",
        "      if (10*p[0]+p[1] <24) and (10*p[2]+p[3]<60):\n",
        "        hora = f\"{p[0]}{p[1]}:{p[2]}{p[3]}\"\n",
        "        lista_de_horas.append(hora)\n",
        "    return lista_de_horas\n"
      ]
    },
    {
      "cell_type": "markdown",
      "metadata": {
        "id": "CLJP2s2OdIsn"
      },
      "source": [
        "Validando:"
      ]
    },
    {
      "cell_type": "code",
      "execution_count": 9,
      "metadata": {
        "colab": {
          "base_uri": "https://localhost:8080/"
        },
        "id": "-j1r3eIWdIsn",
        "outputId": "72220185-15f9-4486-f946-e47d95d9f6c2"
      },
      "outputs": [
        {
          "output_type": "stream",
          "name": "stdout",
          "text": [
            "['12:34', '12:43', '13:24', '13:42', '14:23', '14:32', '21:34', '21:43', '23:14', '23:41']\n"
          ]
        }
      ],
      "source": [
        "print(horas_validas([1,2,3,4]))"
      ]
    },
    {
      "cell_type": "markdown",
      "metadata": {
        "id": "pG1ZSdncdIso"
      },
      "source": [
        "Escribe una función, lo más compacta posible, que escoja entre los 3 patrones ascii a continuación, e imprima en pantalla\n",
        "el deseado, pero de dimensión $n$ ($n \\ge 4$), toma en cuanta que para algunos valores de $n$ habrá\n",
        "algún(os) patrones que no se puedan hacer.\n",
        "\n",
        "```\n",
        "          *             ++++           oooooooo\n",
        "          **            ++++           ooo  ooo\n",
        "          ***           ++++           oo    oo\n",
        "          ****          ++++           o      o\n",
        "          *****             ++++       o      o\n",
        "          ******            ++++       oo    oo\n",
        "          *******           ++++       ooo  ooo\n",
        "          ********          ++++       oooooooo\n",
        "\n",
        "```"
      ]
    },
    {
      "cell_type": "code",
      "execution_count": 10,
      "metadata": {
        "id": "vU7tSVJWdIso"
      },
      "outputs": [],
      "source": [
        "def patrones_ascii(n, patron = 1):\n",
        "  '''\n",
        "  Para un n mayor que 3 y un patron selecionado (1,2,3) la función regresa un patron ascii.\n",
        "  Patrones:\n",
        "  1.    2.      3.\n",
        "  *     +++     oooooo\n",
        "  **    +++     oo  oo\n",
        "  ***   +++     o    o\n",
        "  ****     +++  o    o\n",
        "  *****    +++  oo  oo\n",
        "  ******   +++  oooooo\n",
        "  '''\n",
        "  if n >= 4:\n",
        "    if patron==1:\n",
        "      for i in range(1,2*n+1):\n",
        "        print(f\"{i*'*'}\")\n",
        "    if patron==2:\n",
        "      if n%2 == 0:\n",
        "        for i in range(1,n+1):\n",
        "          print(f\"{n*'+'}\")\n",
        "        for i in range(1,n+1):\n",
        "          print(f\"{n*' '+n*'+'}\")\n",
        "      else: print('Este patron no es posible para n impar')\n",
        "    if patron==3:\n",
        "      for i in range(n):\n",
        "        print(f\"{(n-i)*'o'+2*i*' '+(n-i)*'o'}\")\n",
        "      for i in range(1,n+1):\n",
        "        print(f\"{(i)*'o'+2*(n-i)*' '+(i)*'o'}\")\n",
        "  else: print('Escoja otra n')\n",
        "\n"
      ]
    },
    {
      "cell_type": "code",
      "execution_count": 14,
      "metadata": {
        "colab": {
          "base_uri": "https://localhost:8080/"
        },
        "id": "IQT-xUUudIsp",
        "outputId": "c96f7336-aeed-4211-e08e-1e778a4be4e4"
      },
      "outputs": [
        {
          "output_type": "stream",
          "name": "stdout",
          "text": [
            "Escoja otra n\n",
            "oooooooooo\n",
            "oooo  oooo\n",
            "ooo    ooo\n",
            "oo      oo\n",
            "o        o\n",
            "o        o\n",
            "oo      oo\n",
            "ooo    ooo\n",
            "oooo  oooo\n",
            "oooooooooo\n",
            "++++\n",
            "++++\n",
            "++++\n",
            "++++\n",
            "    ++++\n",
            "    ++++\n",
            "    ++++\n",
            "    ++++\n",
            "Este patron no es posible para n impar\n",
            "*\n",
            "**\n",
            "***\n",
            "****\n",
            "*****\n",
            "******\n",
            "*******\n",
            "********\n"
          ]
        }
      ],
      "source": [
        "patrones_ascii(3,3)\n",
        "\n",
        "patrones_ascii(5,3)\n",
        "\n",
        "patrones_ascii(4,2)\n",
        "\n",
        "patrones_ascii(9,2)\n",
        "\n",
        "patrones_ascii(4,1)"
      ]
    },
    {
      "cell_type": "markdown",
      "metadata": {
        "id": "LkdZm7avdIsp"
      },
      "source": [
        "### Clases y objetos\n",
        "\n",
        "Diseña una clase Matriz con las siguientes características:\n",
        "\n",
        "1. Como inicialización de un objeto es necesario conocer $n$, $m$ y tipo. En caso de no proporcionar $m$ la matriz se asume cuadrada de $n \\times n$. En caso de no proporcionar $n$ la matriz tendrá una dimensión de $1 \\times 1$.\n",
        "2. De no especificarse todos los elementos se inicializan a 0, a menos que exista un tipo especial ( `unos` o `diag` por el momento).\n",
        "3. Implementa con sobrecarga la suma de matrices, la multiplicación de matrices y la multiplicación por un escalar.\n",
        "4. Implementa como métodos eliminar columna y eliminar fila.   \n",
        "5. Programa la representación visual de la matriz.\n",
        "6. Ten en cuenta tambien el manejo de errores.\n",
        "\n",
        "\n",
        "Ejemplo de uso:\n",
        "\n",
        "```\n",
        ">>> A = Matriz(n=3, m=4)\n",
        "\n",
        ">>> print(A)\n",
        "0 0 0 0\n",
        "0 0 0 0\n",
        "0 0 0 0\n",
        "\n",
        ">>> A = A.quitafila(2)\n",
        "\n",
        ">>> print(A)\n",
        "0 0 0 0\n",
        "0 0 0 0\n",
        "\n",
        ">>> B = Matriz(4,4,'diag')\n",
        "\n",
        ">>> print(B)\n",
        "1 0 0 0\n",
        "0 1 0 0\n",
        "0 0 1 0\n",
        "0 0 0 1\n",
        "\n",
        ">>> C = Matriz(4,1,'unos')\n",
        "\n",
        ">>> print(C)\n",
        "1\n",
        "1\n",
        "1\n",
        "1\n",
        "\n",
        ">>> D = 3 * B * C\n",
        "\n",
        ">>> print(D)\n",
        "3\n",
        "3\n",
        "3\n",
        "3\n",
        "\n",
        ">>> E = 3 * B + C\n",
        "error \"No seas menso, si no son de la misma dimensión las matrices no se pueden sumar\"\n",
        "```"
      ]
    },
    {
      "cell_type": "code",
      "execution_count": 15,
      "metadata": {
        "id": "S3EbBLs0dIsq"
      },
      "outputs": [],
      "source": [
        "class Matriz:\n",
        "\n",
        "    def __init__(self, n, m, tipo='ceros'):\n",
        "        self.n = n\n",
        "        self.m = m\n",
        "        self.elementos = []\n",
        "\n",
        "        if tipo=='ceros':\n",
        "          self.elementos = [0]*(self.n*self.m)\n",
        "        elif tipo=='unos':\n",
        "          self.elementos = [1]*(self.n*self.m)\n",
        "        elif tipo=='diag':\n",
        "          self.elementos = [1 if x%(self.m+1)==0 else 0 for x in range(self.n*self.m)]\n",
        "        else:\n",
        "          print('tipo no valido')\n",
        "\n",
        "        self.matriz = [self.elementos[i*self.m:(i+1)*self.m] for i in range(self.n)]\n",
        "\n",
        "    #Esta función no la entiendo pero trabaja con la de abajo\n",
        "    def __repr__(self):\n",
        "      return self.__str__()\n",
        "\n",
        "    #Esta función convierte la matriz en string, pero no entiendo porque print() la toma, pero funciona\n",
        "    def __str__(self):\n",
        "      matriz_str = ''\n",
        "      for fila in self.matriz:\n",
        "          matriz_str += ' '.join(map(str, fila)) + '\\n'\n",
        "      return matriz_str\n",
        "\n",
        "    def quitafila(self,fila):\n",
        "      if fila <1 or fila > self.n:\n",
        "        print('No existe esta fila')\n",
        "        return self\n",
        "      else:\n",
        "        for i in range(self.m):\n",
        "          self.elementos.pop((fila-1)*self.m+i)\n",
        "        self.n = self.n-1\n",
        "        self.matriz = [self.elementos[i*self.m:(i+1)*self.m] for i in range(self.n)]\n",
        "        return self\n",
        "\n",
        "    def quitacolum(self,colum):\n",
        "      if colum <1 or colum > self.m:\n",
        "        print('No existe esta columna')\n",
        "        return self\n",
        "      else:\n",
        "        for i in range(self.n):\n",
        "          self.elementos.pop(i*self.n +(colum-1))\n",
        "        self.m = self.m-1\n",
        "        self.matriz = [self.elementos[i*self.m:(i+1)*self.m] for i in range(self.n)]\n",
        "        return self\n",
        "\n",
        "    def __add__(self,other):\n",
        "      nueva_matriz = Matriz(n = self.n,m = self.m)\n",
        "      if self.n != other.n or self.m != other.m:\n",
        "        print('error \"No seas menso, si no son de la misma dimensión las matrices no se pueden sumar\"')\n",
        "      else:\n",
        "        for i in range(self.n):\n",
        "          for j in range(other.m):\n",
        "            nueva_matriz.matriz[i][j] = self.matriz[i][j] + other.matriz[i][j]\n",
        "      return nueva_matriz\n",
        "\n",
        "\n",
        "    def __rmul__(self,a):\n",
        "      self.elementos = [a*x for x in self.elementos]\n",
        "      self.matriz = [self.elementos[i*self.m:(i+1)*self.m] for i in range(self.n)]\n",
        "      return self\n",
        "\n",
        "\n",
        "    def __mul__(self,other):\n",
        "      nueva_matriz = Matriz(n = self.n,m = other.m)\n",
        "      if self.m != other.n:\n",
        "        print('error \"No seas menso, no se pueden multiplicar. El número de columnas de la primera debe ser igual al número de renglones de la otra.\"')\n",
        "      else:\n",
        "        for i in range(self.n):\n",
        "          for j in range(other.m):\n",
        "            x=0\n",
        "            for k in range(self.m):\n",
        "              x = x + self.matriz[i][k]*other.matriz[k][j]\n",
        "            nueva_matriz.matriz[i][j] = x\n",
        "      return nueva_matriz\n",
        "\n"
      ]
    },
    {
      "cell_type": "code",
      "execution_count": 21,
      "metadata": {
        "colab": {
          "base_uri": "https://localhost:8080/"
        },
        "id": "AvhpgxjldIsq",
        "outputId": "7845fc4d-803e-4362-88fd-c6d447e64c93"
      },
      "outputs": [
        {
          "output_type": "stream",
          "name": "stdout",
          "text": [
            "A = 0 0 0 0\n",
            "0 0 0 0\n",
            "0 0 0 0\n",
            "\n",
            "A =  0 0 0 0\n",
            "0 0 0 0\n",
            "\n",
            "B =  1 0 0 0\n",
            "0 1 0 0\n",
            "0 0 1 0\n",
            "0 0 0 1\n",
            "\n",
            "C = 1\n",
            "1\n",
            "1\n",
            "1\n",
            "\n",
            "D =  3\n",
            "3\n",
            "3\n",
            "3\n",
            "\n",
            "error \"No seas menso, si no son de la misma dimensión las matrices no se pueden sumar\"\n",
            "E =  0 0 0 0\n",
            "0 0 0 0\n",
            "0 0 0 0\n",
            "0 0 0 0\n",
            "\n",
            "136 136 136 136\n",
            "136 136 136 136\n",
            "136 136 136 136\n",
            "136 136 136 136\n",
            "\n"
          ]
        }
      ],
      "source": [
        "# Realiza las pruebas a la clase aquí\n",
        "\n",
        "A = Matriz(n=3, m=4)\n",
        "print('A =', A)\n",
        "\n",
        "A = A.quitafila(2)\n",
        "print('A = ', A)\n",
        "\n",
        "B = Matriz(4,4,'diag')\n",
        "print('B = ', B)\n",
        "\n",
        "C = Matriz(4,1,'unos')\n",
        "print('C =', C)\n",
        "\n",
        "D = 3 * B * C\n",
        "print('D = ', D)\n",
        "\n",
        "E = 3 * B + C\n",
        "print('E = ', E)\n",
        "\n",
        "R = Matriz(4,4,'unos')\n",
        "\n",
        "S = (4*R+2*B)*R\n",
        "print(S)"
      ]
    }
  ],
  "metadata": {
    "kernelspec": {
      "display_name": "ing-caract",
      "language": "python",
      "name": "python3"
    },
    "language_info": {
      "codemirror_mode": {
        "name": "ipython",
        "version": 3
      },
      "file_extension": ".py",
      "mimetype": "text/x-python",
      "name": "python",
      "nbconvert_exporter": "python",
      "pygments_lexer": "ipython3",
      "version": "3.8.13"
    },
    "orig_nbformat": 4,
    "colab": {
      "provenance": [],
      "include_colab_link": true
    }
  },
  "nbformat": 4,
  "nbformat_minor": 0
}